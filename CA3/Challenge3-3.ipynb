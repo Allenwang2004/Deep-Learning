{
  "cells": [
    {
      "cell_type": "code",
      "execution_count": 2,
      "metadata": {
        "colab": {
          "base_uri": "https://localhost:8080/"
        },
        "id": "42A_3MQG69wq",
        "outputId": "e0f04bcc-da96-4140-f8d8-93e53879f689"
      },
      "outputs": [
        {
          "name": "stdout",
          "output_type": "stream",
          "text": [
            "Downloading data from https://storage.googleapis.com/tensorflow/tf-keras-datasets/imdb.npz\n",
            "17464789/17464789 [==============================] - 0s 0us/step\n",
            "IMDB 數據集已經存儲到 imdb_mini.pkl 文件中。\n",
            "訓練集樣本數量: 25000\n",
            "測試集樣本數量: 25000\n"
          ]
        }
      ],
      "source": [
        "#Load the Data\n",
        "from tensorflow.keras.datasets import imdb\n",
        "from tensorflow.keras.preprocessing import sequence\n",
        "import numpy as np\n",
        "import pickle\n",
        "\n",
        "# 載入 IMDB 數據集，限制詞彙表大小為 5000 個單詞\n",
        "(X_train, y_train), (X_test, y_test) = imdb.load_data(num_words=5000)\n",
        "#num_words 代表我們只取出現頻率最高的前 5000 個單詞，低頻單詞將被忽略\n",
        "\n",
        "# 將數據存儲到 pkl 文件中\n",
        "with open('imdb_mini.pkl', 'wb') as f:\n",
        "    pickle.dump((X_train, y_train, X_test, y_test), f)\n",
        "\n",
        "print(\"IMDB 數據集已經存儲到 imdb_mini.pkl 文件中。\")\n",
        "print(\"訓練集樣本數量:\", len(X_train))\n",
        "print(\"測試集樣本數量:\", len(X_test))\n",
        "\n",
        "# 0 為 負面評論，1 為正面評論\n"
      ]
    },
    {
      "cell_type": "code",
      "execution_count": 3,
      "metadata": {
        "id": "OEyxffMn7Eps"
      },
      "outputs": [],
      "source": [
        "#Review Tokenization and Padding\n",
        "from tensorflow.keras.preprocessing.sequence import pad_sequences\n",
        "\n",
        "#Set the maximum review length\n",
        "#這一步是為了將每條評論的長度統一，不足的補 0，超出的截斷\n",
        "max_length = 500\n",
        "\n",
        "#Pad sequence\n",
        "X_train_padded = pad_sequences(X_train, maxlen=max_length, padding = 'post')\n",
        "X_test_padded = pad_sequences(X_test, maxlen=max_length, padding = 'post')"
      ]
    },
    {
      "cell_type": "code",
      "execution_count": 4,
      "metadata": {
        "colab": {
          "base_uri": "https://localhost:8080/"
        },
        "id": "5pn3Opqn7IiA",
        "outputId": "617e0e92-b2ef-48c8-b1d1-c1a97f430dee"
      },
      "outputs": [
        {
          "name": "stdout",
          "output_type": "stream",
          "text": [
            "Review ( Tokenized )\n",
            "[   1   14   22   16   43  530  973 1622 1385   65  458 4468   66 3941\n",
            "    4  173   36  256    5   25  100   43  838  112   50  670    2    9\n",
            "   35  480  284    5  150    4  172  112  167    2  336  385   39    4\n",
            "  172 4536 1111   17  546   38   13  447    4  192   50   16    6  147\n",
            " 2025   19   14   22    4 1920 4613  469    4   22   71   87   12   16\n",
            "   43  530   38   76   15   13 1247    4   22   17  515   17   12   16\n",
            "  626   18    2    5   62  386   12    8  316    8  106    5    4 2223\n",
            "    2   16  480   66 3785   33    4  130   12   16   38  619    5   25\n",
            "  124   51   36  135   48   25 1415   33    6   22   12  215   28   77\n",
            "   52    5   14  407   16   82    2    8    4  107  117    2   15  256\n",
            "    4    2    7 3766    5  723   36   71   43  530  476   26  400  317\n",
            "   46    7    4    2 1029   13  104   88    4  381   15  297   98   32\n",
            " 2071   56   26  141    6  194    2   18    4  226   22   21  134  476\n",
            "   26  480    5  144   30    2   18   51   36   28  224   92   25  104\n",
            "    4  226   65   16   38 1334   88   12   16  283    5   16 4472  113\n",
            "  103   32   15   16    2   19  178   32    0    0    0    0    0    0\n",
            "    0    0    0    0    0    0    0    0    0    0    0    0    0    0\n",
            "    0    0    0    0    0    0    0    0    0    0    0    0    0    0\n",
            "    0    0    0    0    0    0    0    0    0    0    0    0    0    0\n",
            "    0    0    0    0    0    0    0    0    0    0    0    0    0    0\n",
            "    0    0    0    0    0    0    0    0    0    0    0    0    0    0\n",
            "    0    0    0    0    0    0    0    0    0    0    0    0    0    0\n",
            "    0    0    0    0    0    0    0    0    0    0    0    0    0    0\n",
            "    0    0    0    0    0    0    0    0    0    0    0    0    0    0\n",
            "    0    0    0    0    0    0    0    0    0    0    0    0    0    0\n",
            "    0    0    0    0    0    0    0    0    0    0    0    0    0    0\n",
            "    0    0    0    0    0    0    0    0    0    0    0    0    0    0\n",
            "    0    0    0    0    0    0    0    0    0    0    0    0    0    0\n",
            "    0    0    0    0    0    0    0    0    0    0    0    0    0    0\n",
            "    0    0    0    0    0    0    0    0    0    0    0    0    0    0\n",
            "    0    0    0    0    0    0    0    0    0    0    0    0    0    0\n",
            "    0    0    0    0    0    0    0    0    0    0    0    0    0    0\n",
            "    0    0    0    0    0    0    0    0    0    0    0    0    0    0\n",
            "    0    0    0    0    0    0    0    0    0    0    0    0    0    0\n",
            "    0    0    0    0    0    0    0    0    0    0    0    0    0    0\n",
            "    0    0    0    0    0    0    0    0    0    0]\n",
            "Label\n",
            "1\n"
          ]
        }
      ],
      "source": [
        "#Example of a processed review\n",
        "print('Review ( Tokenized )')\n",
        "print(X_train_padded[0])\n",
        "\n",
        "#Corresponding label\n",
        "print('Label')\n",
        "print(y_train[0])"
      ]
    },
    {
      "cell_type": "code",
      "execution_count": 5,
      "metadata": {
        "colab": {
          "base_uri": "https://localhost:8080/"
        },
        "id": "BJ-XOnmV7LaS",
        "outputId": "589cc233-e656-43e8-e3de-3fd3b32573d8"
      },
      "outputs": [
        {
          "name": "stdout",
          "output_type": "stream",
          "text": [
            "Downloading data from https://storage.googleapis.com/tensorflow/tf-keras-datasets/imdb_word_index.json\n",
            "1641221/1641221 [==============================] - 0s 0us/step\n",
            "Review(Decoded)\n",
            "<START>thisfilmwasjustbrilliantcastinglocationscenerystorydirectioneveryone'sreallysuitedtheparttheyplayedandyoucouldjustimaginebeingthererobert<UNK>isanamazingactorandnowthesamebeingdirector<UNK>fathercamefromthesamescottishislandasmyselfsoilovedthefacttherewasarealconnectionwiththisfilmthewittyremarksthroughoutthefilmweregreatitwasjustbrilliantsomuchthatiboughtthefilmassoonasitwasreleasedfor<UNK>andwouldrecommendittoeveryonetowatchandthefly<UNK>wasamazingreallycriedattheenditwassosadandyouknowwhattheysayifyoucryatafilmitmusthavebeengoodandthisdefinitelywasalso<UNK>tothetwolittle<UNK>thatplayedthe<UNK>ofnormanandpaultheywerejustbrilliantchildrenareoftenleftoutofthe<UNK>listithinkbecausethestarsthatplaythemallgrownuparesuchabig<UNK>forthewholefilmbutthesechildrenareamazingandshouldbe<UNK>forwhattheyhavedonedon'tyouthinkthewholestorywassolovelybecauseitwastrueandwassomeone'slifeafterallthatwas<UNK>withusall\n"
          ]
        }
      ],
      "source": [
        "#Mapping Words to Indices\n",
        "from tensorflow.keras.datasets import imdb\n",
        "\n",
        "#Retrieve the word index\n",
        "word_index = imdb.get_word_index()\n",
        "\n",
        "#Adjust the index\n",
        "word_index = {k: (v+3) for k, v in word_index.items()}\n",
        "word_index[\"<PAD>\"] = 0\n",
        "word_index[\"<START>\"] = 1\n",
        "word_index[\"<UNK>\"] = 2\n",
        "#調整資料的索引\n",
        "\n",
        "#Reverse mapping from indices to words\n",
        "index_word = {i: word for word,i in word_index.items()}\n",
        "\n",
        "#Decode the first review\n",
        "decoded_review = ''.join([index_word.get(i,'?') for i in X_train [0]])\n",
        "print('Review(Decoded)')\n",
        "print(decoded_review)"
      ]
    },
    {
      "cell_type": "code",
      "execution_count": 6,
      "metadata": {
        "colab": {
          "base_uri": "https://localhost:8080/",
          "height": 540
        },
        "id": "5IKXyx067Srh",
        "outputId": "436a374e-83aa-487e-c5c7-8be827d42c4e"
      },
      "outputs": [
        {
          "name": "stdout",
          "output_type": "stream",
          "text": [
            "Mean Length: 222.36088\n",
            "Standard Deviation: 129.06306584621956\n",
            "Maximum Length: 500\n",
            "Minimum Length: 11\n"
          ]
        },
        {
          "data": {
            "image/png": "[encoded data removed]",
            "text/plain": [
              "<Figure size 640x480 with 1 Axes>"
            ]
          },
          "metadata": {},
          "output_type": "display_data"
        }
      ],
      "source": [
        "import matplotlib.pyplot as plt\n",
        "import numpy as np\n",
        "\n",
        "# 計算評論的單詞數\n",
        "review_lengths = [min(len(review), 500) for review in X_train]\n",
        "\n",
        "# 建立長度分佈\n",
        "length_distribution = {}\n",
        "for length in review_lengths:\n",
        "    length_distribution[length] = length_distribution.get(length, 0) + 1\n",
        "\n",
        "# 計算平均值、標準差等統計信息\n",
        "mean_length = np.mean(review_lengths)\n",
        "std_length = np.std(review_lengths)\n",
        "max_length = np.max(review_lengths)\n",
        "min_length = np.min(review_lengths)\n",
        "\n",
        "# 打印統計信息\n",
        "print(\"Mean Length:\", mean_length)\n",
        "print(\"Standard Deviation:\", std_length)\n",
        "print(\"Maximum Length:\", max_length)\n",
        "print(\"Minimum Length:\", min_length)\n",
        "\n",
        "# 可視化分佈\n",
        "plt.bar(length_distribution.keys(), length_distribution.values())\n",
        "plt.xlabel('Review Length')\n",
        "plt.ylabel('Number of Reviews')\n",
        "plt.title('Distribution of Review Lengths')\n",
        "plt.show()"
      ]
    },
    {
      "cell_type": "code",
      "execution_count": 7,
      "metadata": {
        "id": "nCNO71rG7Wu7"
      },
      "outputs": [],
      "source": [
        "#Segementing the Dataset\n",
        "#Define the threshold\n",
        "threshold_length =222\n",
        "\n",
        "idx_short = [i for i, review in enumerate(X_train) if len(review) <= threshold_length]\n",
        "idx_long = [i for i, review in enumerate(X_train) if len(review) > threshold_length]"
      ]
    },
    {
      "cell_type": "code",
      "execution_count": 8,
      "metadata": {
        "id": "hMh4o8xz7ZYv"
      },
      "outputs": [],
      "source": [
        "#Prepare the short and long subsets\n",
        "X_short = [X_train[i] for i in idx_short]\n",
        "y_short = [y_train[i] for i in idx_short]\n",
        "\n",
        "X_long = [X_train[i] for i in idx_long]\n",
        "y_long = [y_train[i] for i in idx_long]\n",
        "\n",
        "#Pad the sequences\n",
        "X_short_padded = pad_sequences(X_short, maxlen=threshold_length, padding='post')\n",
        "X_long_padded = pad_sequences(X_long, maxlen=threshold_length, padding='post')"
      ]
    },
    {
      "cell_type": "code",
      "execution_count": 9,
      "metadata": {
        "colab": {
          "base_uri": "https://localhost:8080/"
        },
        "id": "VSvvgKX97bb_",
        "outputId": "e355a33c-7e92-48c6-d836-2e9e224273c8"
      },
      "outputs": [
        {
          "name": "stdout",
          "output_type": "stream",
          "text": [
            "Number of short reviews: 15727\n",
            "Number of long reviews: 9273\n",
            "Number of short labels: 15727\n",
            "Number of long labels: 9273\n"
          ]
        }
      ],
      "source": [
        "#Print the number of data for X_short and X_long and their corresponding labels\n",
        "print('Number of short reviews:', len(X_short))\n",
        "print('Number of long reviews:', len(X_long))\n",
        "print('Number of short labels:', len(y_short))\n",
        "print('Number of long labels:', len(y_long))"
      ]
    },
    {
      "cell_type": "markdown",
      "metadata": {
        "id": "TE6t7AN_S9lU"
      },
      "source": [
        "padding post"
      ]
    },
    {
      "cell_type": "code",
      "execution_count": 10,
      "metadata": {
        "colab": {
          "base_uri": "https://localhost:8080/"
        },
        "id": "YbhbRUVW7d0_",
        "outputId": "02e88452-b054-451b-c40b-19392db20220"
      },
      "outputs": [
        {
          "name": "stdout",
          "output_type": "stream",
          "text": [
            "Short review length: 222\n",
            "Long review length: 222\n",
            "Label: 1\n",
            "Label: 1\n"
          ]
        }
      ],
      "source": [
        "#print the 整數序列長度 of X_short_padded\n",
        "print('Short review length:', len(X_short_padded[0]))\n",
        "print('Long review length:', len(X_long_padded[0]))\n",
        "print('Label:', y_short[0])\n",
        "print('Label:', y_long[0])"
      ]
    },
    {
      "cell_type": "code",
      "execution_count": 11,
      "metadata": {
        "colab": {
          "base_uri": "https://localhost:8080/"
        },
        "id": "rSaskOeg7mzz",
        "outputId": "9e32e1bb-83cc-4c08-e00b-a72d0d4072ac"
      },
      "outputs": [
        {
          "name": "stdout",
          "output_type": "stream",
          "text": [
            "Review(Decoded)\n",
            "<START>thisfilmwasjustbrilliantcastinglocationscenerystorydirectioneveryone'sreallysuitedtheparttheyplayedandyoucouldjustimaginebeingthererobert<UNK>isanamazingactorandnowthesamebeingdirector<UNK>fathercamefromthesamescottishislandasmyselfsoilovedthefacttherewasarealconnectionwiththisfilmthewittyremarksthroughoutthefilmweregreatitwasjustbrilliantsomuchthatiboughtthefilmassoonasitwasreleasedfor<UNK>andwouldrecommendittoeveryonetowatchandthefly<UNK>wasamazingreallycriedattheenditwassosadandyouknowwhattheysayifyoucryatafilmitmusthavebeengoodandthisdefinitelywasalso<UNK>tothetwolittle<UNK>thatplayedthe<UNK>ofnormanandpaultheywerejustbrilliantchildrenareoftenleftoutofthe<UNK>listithinkbecausethestarsthatplaythemallgrownuparesuchabig<UNK>forthewholefilmbutthesechildrenareamazingandshouldbe<UNK>forwhattheyhavedonedon'tyouthinkthewholestorywassolovelybecauseitwastrueandwassomeone'slifeafterallthatwas<UNK>withusall\n"
          ]
        }
      ],
      "source": [
        "#Check for the short review\n",
        "decoded_review = ''.join([index_word.get(i,'?') for i in X_short [0]])\n",
        "print('Review(Decoded)')\n",
        "print(decoded_review)"
      ]
    },
    {
      "cell_type": "code",
      "execution_count": 12,
      "metadata": {
        "colab": {
          "base_uri": "https://localhost:8080/"
        },
        "id": "ERApo5zZ7nvD",
        "outputId": "9fb461d4-3088-4719-de81-68ddc77c1052"
      },
      "outputs": [
        {
          "name": "stdout",
          "output_type": "stream",
          "text": [
            "Review(Decoded)\n",
            "<START>the<UNK><UNK>atstorytellingthetraditionalsortmanyyearsaftertheeventicanstillseeinmy<UNK>eyeanelderlyladymy<UNK>mother<UNK>thebattleof<UNK>shemakesthecharacterscomealiveherpassionisthatofaneyewitnessonetotheeventsonthe<UNK><UNK>amileorsofromwhereshelivesbrbrofcourseithappenedmanyyearsbeforeshewasbornbutyouwouldn'tguessfromthewayshetellsitthesamestoryistoldin<UNK>thelengthand<UNK>of<UNK>asi<UNK>itwithafriendonenightin<UNK>alocalcutintogivehisversionthediscussioncontinuedtoclosingtimebrbrstoriespasseddownlikethisbecomepartofourbeingwhodoesn'trememberthestoriesourparentstolduswhenwewerechildrentheybecomeourinvisibleworldandaswegrowoldertheymaybestillserveasinspirationorasanemotional<UNK>factandfictionblendwith<UNK>rolemodelswarningstories<UNK>magicandmysterybrbrmynameis<UNK>likemygrandfatherandhisgrandfatherbeforehimourprotagonistintroduceshimselftousandalsointroducesthestorythat<UNK>backthrough<UNK>it<UNK>storieswithinstoriesstoriesthat<UNK>the<UNK>wonderof<UNK>its<UNK>mountains<UNK>in<UNK>thestuffoflegendyet<UNK>is<UNK>inrealitythisiswhatgivesititsspecialcharmithasaroughbeautyand<UNK><UNK>withsomeofthefinest<UNK>singingyouwilleverhearbrbr<UNK><UNK>visitshisgrandfatherinhospitalshortlybeforehisdeathheburnswithfrustrationpartofhim<UNK>tobeinthetwentyfirstcenturytohangoutin<UNK>butheisraisedonthewestern<UNK>amonga<UNK>speakingcommunitybrbryetthereisadeeperconflictwithinhimhe<UNK>toknowthetruththetruthbehindhis<UNK>ancientstorieswheredoesfictionendandhewantstoknowthetruthbehindthedeathofhisparentsbrbrheispulledtomakealast<UNK>journeytothe<UNK>ofoneof<UNK>most<UNK>mountainscanthetruthbetoldorisitallinstoriesbrbrinthisstoryaboutstorieswe<UNK>bloodybattles<UNK>loversthe<UNK>ofoldandthesometimesmore<UNK><UNK>ofacceptedtruthindoingsoweeachconnectwith<UNK>ashelivesthestoryofhisownlifebrbr<UNK>the<UNK><UNK>isprobablythemosthonest<UNK>andgenuinelybeautifulfilmof<UNK>evermadelike<UNK>igotslightlyannoyedwiththe<UNK>ofhangingstoriesonmorestoriesbutalsolike<UNK>i<UNK>thisonceisawthe<UNK>picture'forgettheboxoffice<UNK>of<UNK>anditslikeyoumighteven<UNK>the<UNK>famous<UNK>ofthe<UNK>mantoseeafilmthatistrueto<UNK>thisoneisprobablyuniqueifyoumaybe<UNK>onitdeeplyenoughyoumightevenre<UNK>thepowerofstorytellingandtheageoldquestionofwhethertherearesome<UNK>thatcannotbetoldbutonlyexperienced\n"
          ]
        }
      ],
      "source": [
        "#Check for the long review\n",
        "decoded_review = ''.join([index_word.get(i,'?') for i in X_long [0]])\n",
        "print('Review(Decoded)')\n",
        "print(decoded_review)"
      ]
    },
    {
      "cell_type": "code",
      "execution_count": 13,
      "metadata": {
        "colab": {
          "base_uri": "https://localhost:8080/"
        },
        "id": "ylU2u8wZ7pph",
        "outputId": "26ecb93c-773f-4f1e-9047-0d7977048cac"
      },
      "outputs": [
        {
          "name": "stdout",
          "output_type": "stream",
          "text": [
            "Model: \"sequential_1\"\n",
            "_________________________________________________________________\n",
            " Layer (type)                Output Shape              Param #   \n",
            "=================================================================\n",
            " embedding (Embedding)       (None, 500, 100)          500000    \n",
            "                                                                 \n",
            " conv1d (Conv1D)             (None, 498, 256)          77056     \n",
            "                                                                 \n",
            " global_max_pooling1d (Glob  (None, 256)               0         \n",
            " alMaxPooling1D)                                                 \n",
            "                                                                 \n",
            " dense (Dense)               (None, 128)               32896     \n",
            "                                                                 \n",
            " dense_1 (Dense)             (None, 1)                 129       \n",
            "                                                                 \n",
            "=================================================================\n",
            "Total params: 610081 (2.33 MB)\n",
            "Trainable params: 610081 (2.33 MB)\n",
            "Non-trainable params: 0 (0.00 Byte)\n",
            "_________________________________________________________________\n",
            "Epoch 1/5\n",
            "782/782 [==============================] - 235s 300ms/step - loss: 0.3565 - accuracy: 0.8337 - val_loss: 0.2616 - val_accuracy: 0.8911\n",
            "Epoch 2/5\n",
            "782/782 [==============================] - 189s 242ms/step - loss: 0.1740 - accuracy: 0.9332 - val_loss: 0.3018 - val_accuracy: 0.8819\n",
            "Epoch 3/5\n",
            "782/782 [==============================] - 236s 302ms/step - loss: 0.0773 - accuracy: 0.9742 - val_loss: 0.3144 - val_accuracy: 0.8939\n",
            "Epoch 4/5\n",
            "782/782 [==============================] - 190s 243ms/step - loss: 0.0228 - accuracy: 0.9942 - val_loss: 0.4117 - val_accuracy: 0.8892\n",
            "Epoch 5/5\n",
            "782/782 [==============================] - 210s 268ms/step - loss: 0.0094 - accuracy: 0.9978 - val_loss: 0.5098 - val_accuracy: 0.8846\n",
            "782/782 [==============================] - 42s 54ms/step - loss: 0.5098 - accuracy: 0.8846\n",
            "Test Accuracy: 0.8845599889755249\n"
          ]
        }
      ],
      "source": [
        "#CNN Model training for all reviews\n",
        "from tensorflow.keras.models import Sequential\n",
        "from tensorflow.keras.layers import Embedding, Conv1D, GlobalMaxPooling1D, Dense\n",
        "\n",
        "#Define the model\n",
        "#Build a CNN model using 10000 neurons, make sure to rely mostly on convolutional layers\n",
        "model = Sequential()\n",
        "model.add(Embedding(5000, 100, input_length=max_length))\n",
        "model.add(Conv1D(256, 3, padding='valid', activation='relu'))\n",
        "model.add(GlobalMaxPooling1D())\n",
        "model.add(Dense(128, activation='relu'))\n",
        "model.add(Dense(1, activation='sigmoid'))\n",
        "\n",
        "#Compile the model\n",
        "model.compile(optimizer='adam', loss='binary_crossentropy', metrics=['accuracy'])\n",
        "\n",
        "#Model Summary\n",
        "model.summary()\n",
        "\n",
        "#Train the model\n",
        "model.fit(X_train_padded, y_train, epochs=5, batch_size=32, validation_data=(X_test_padded, y_test))\n",
        "\n",
        "#Evaluate the model\n",
        "loss, accuracy = model.evaluate(X_test_padded, y_test)\n",
        "print('Test Accuracy:', accuracy)\n",
        "#CNN Model training for all reviews\n",
        "from tensorflow.keras.models import Sequential\n",
        "from tensorflow.keras.layers import Embedding, Conv1D, GlobalMaxPooling1D, Dense"
      ]
    },
    {
      "cell_type": "code",
      "execution_count": 18,
      "metadata": {
        "colab": {
          "base_uri": "https://localhost:8080/"
        },
        "id": "2WQOh2xb8F7Y",
        "outputId": "12e98e46-4eaf-4187-a486-3e8c85c02902"
      },
      "outputs": [
        {
          "name": "stdout",
          "output_type": "stream",
          "text": [
            "Model: \"sequential_6\"\n",
            "_________________________________________________________________\n",
            " Layer (type)                Output Shape              Param #   \n",
            "=================================================================\n",
            " embedding_5 (Embedding)     (None, 500, 100)          500000    \n",
            "                                                                 \n",
            " conv1d_5 (Conv1D)           (None, 498, 256)          77056     \n",
            "                                                                 \n",
            " global_max_pooling1d_5 (Gl  (None, 256)               0         \n",
            " obalMaxPooling1D)                                               \n",
            "                                                                 \n",
            " dense_7 (Dense)             (None, 128)               32896     \n",
            "                                                                 \n",
            " reshape_1 (Reshape)         (None, 1, 128)            0         \n",
            "                                                                 \n",
            " simple_rnn_1 (SimpleRNN)    (None, 128)               32896     \n",
            "                                                                 \n",
            " dense_8 (Dense)             (None, 1)                 129       \n",
            "                                                                 \n",
            "=================================================================\n",
            "Total params: 642977 (2.45 MB)\n",
            "Trainable params: 642977 (2.45 MB)\n",
            "Non-trainable params: 0 (0.00 Byte)\n",
            "_________________________________________________________________\n",
            "Epoch 1/5\n",
            "782/782 [==============================] - 241s 306ms/step - loss: 0.3439 - accuracy: 0.8388 - val_loss: 0.2582 - val_accuracy: 0.8927\n",
            "Epoch 2/5\n",
            "782/782 [==============================] - 188s 240ms/step - loss: 0.1665 - accuracy: 0.9354 - val_loss: 0.2845 - val_accuracy: 0.8846\n",
            "Epoch 3/5\n",
            "782/782 [==============================] - 192s 245ms/step - loss: 0.0727 - accuracy: 0.9750 - val_loss: 0.4022 - val_accuracy: 0.8750\n",
            "Epoch 4/5\n",
            "782/782 [==============================] - 234s 300ms/step - loss: 0.0427 - accuracy: 0.9841 - val_loss: 0.4002 - val_accuracy: 0.8924\n",
            "Epoch 5/5\n",
            "782/782 [==============================] - 233s 298ms/step - loss: 0.0312 - accuracy: 0.9883 - val_loss: 0.3678 - val_accuracy: 0.8929\n",
            "782/782 [==============================] - 45s 57ms/step - loss: 0.3678 - accuracy: 0.8929\n",
            "Test Accuracy: 0.8928800225257874\n"
          ]
        }
      ],
      "source": [
        "#RNN\n",
        "from tensorflow.keras.models import Sequential\n",
        "from tensorflow.keras.layers import Embedding, Conv1D, GlobalMaxPooling1D, SimpleRNN, Dense, Reshape\n",
        "\n",
        "model_rnn = Sequential()\n",
        "model_rnn.add(Embedding(5000, 100, input_length=max_length))\n",
        "model_rnn.add(Conv1D(256, 3, padding='valid', activation='relu'))\n",
        "model_rnn.add(GlobalMaxPooling1D())\n",
        "model_rnn.add(Dense(128, activation='relu'))\n",
        "model_rnn.add(Reshape((-1, 128)))  # Reshape the input to make it compatible with SimpleRNN layer\n",
        "model_rnn.add(SimpleRNN(128, activation='tanh'))  # You can adjust the number of units in the SimpleRNN layer as needed\n",
        "model_rnn.add(Dense(1, activation='sigmoid'))\n",
        "\n",
        "model_rnn.compile(optimizer='adam', loss='binary_crossentropy', metrics=['accuracy'])\n",
        "\n",
        "model_rnn.summary()\n",
        "\n",
        "model_rnn.fit(X_train_padded, y_train, epochs=5, batch_size=32, validation_data=(X_test_padded, y_test))\n",
        "\n",
        "loss, accuracy = model_rnn.evaluate(X_test_padded, y_test)\n",
        "print('Test Accuracy:', accuracy)"
      ]
    },
    {
      "cell_type": "code",
      "execution_count": 16,
      "metadata": {
        "colab": {
          "base_uri": "https://localhost:8080/"
        },
        "id": "k7XV3H2-INCw",
        "outputId": "8bfcf7bb-f707-48d8-ef5c-61634801e323"
      },
      "outputs": [
        {
          "name": "stdout",
          "output_type": "stream",
          "text": [
            "Model: \"sequential_4\"\n",
            "_________________________________________________________________\n",
            " Layer (type)                Output Shape              Param #   \n",
            "=================================================================\n",
            " embedding_3 (Embedding)     (None, 500, 100)          500000    \n",
            "                                                                 \n",
            " conv1d_3 (Conv1D)           (None, 498, 256)          77056     \n",
            "                                                                 \n",
            " global_max_pooling1d_3 (Gl  (None, 256)               0         \n",
            " obalMaxPooling1D)                                               \n",
            "                                                                 \n",
            " dense_4 (Dense)             (None, 128)               32896     \n",
            "                                                                 \n",
            " reshape (Reshape)           (None, 1, 128)            0         \n",
            "                                                                 \n",
            " gru_2 (GRU)                 (None, 128)               99072     \n",
            "                                                                 \n",
            " dense_5 (Dense)             (None, 1)                 129       \n",
            "                                                                 \n",
            "=================================================================\n",
            "Total params: 709153 (2.71 MB)\n",
            "Trainable params: 709153 (2.71 MB)\n",
            "Non-trainable params: 0 (0.00 Byte)\n",
            "_________________________________________________________________\n",
            "Epoch 1/5\n",
            "782/782 [==============================] - 236s 299ms/step - loss: 0.3386 - accuracy: 0.8419 - val_loss: 0.2566 - val_accuracy: 0.8927\n",
            "Epoch 2/5\n",
            "782/782 [==============================] - 236s 302ms/step - loss: 0.1694 - accuracy: 0.9361 - val_loss: 0.2454 - val_accuracy: 0.8994\n",
            "Epoch 3/5\n",
            "782/782 [==============================] - 231s 296ms/step - loss: 0.0774 - accuracy: 0.9723 - val_loss: 0.2980 - val_accuracy: 0.8940\n",
            "Epoch 4/5\n",
            "782/782 [==============================] - 186s 238ms/step - loss: 0.0398 - accuracy: 0.9862 - val_loss: 0.4482 - val_accuracy: 0.8629\n",
            "Epoch 5/5\n",
            "782/782 [==============================] - 192s 245ms/step - loss: 0.0308 - accuracy: 0.9889 - val_loss: 0.3786 - val_accuracy: 0.8904\n",
            "782/782 [==============================] - 45s 57ms/step - loss: 0.3786 - accuracy: 0.8904\n",
            "Test Accuracy: 0.8904399871826172\n"
          ]
        }
      ],
      "source": [
        "#GRU\n",
        "from tensorflow.keras.models import Sequential\n",
        "from tensorflow.keras.layers import Embedding, Conv1D, GlobalMaxPooling1D, Dense, GRU, Reshape\n",
        "\n",
        "# Define the model\n",
        "model = Sequential()\n",
        "model.add(Embedding(5000, 100, input_length=max_length))\n",
        "model.add(Conv1D(256, 3, padding='valid', activation='relu'))\n",
        "model.add(GlobalMaxPooling1D())\n",
        "model.add(Dense(128, activation='relu'))\n",
        "model.add(Reshape((-1, 128)))  # Reshape the input to make it compatible with GRU layer\n",
        "model.add(GRU(128))  # You can adjust the number of units in the GRU layer as needed\n",
        "model.add(Dense(1, activation='sigmoid'))\n",
        "\n",
        "# Compile the model\n",
        "model.compile(optimizer='adam', loss='binary_crossentropy', metrics=['accuracy'])\n",
        "\n",
        "# Model Summary\n",
        "model.summary()\n",
        "\n",
        "# Train the model\n",
        "model.fit(X_train_padded, y_train, epochs=5, batch_size=32, validation_data=(X_test_padded, y_test))\n",
        "\n",
        "# Evaluate the model\n",
        "loss, accuracy = model.evaluate(X_test_padded, y_test)\n",
        "print('Test Accuracy:', accuracy)\n"
      ]
    },
    {
      "cell_type": "code",
      "execution_count": 31,
      "metadata": {
        "colab": {
          "base_uri": "https://localhost:8080/",
          "height": 957
        },
        "id": "5S5tAejmeaCd",
        "outputId": "dc7dd99b-88b4-44a5-f3e2-e8e7995825b8"
      },
      "outputs": [
        {
          "data": {
            "image/png": "[encoded data removed]",
            "text/plain": [
              "<Figure size 800x500 with 1 Axes>"
            ]
          },
          "metadata": {},
          "output_type": "display_data"
        },
        {
          "data": {
            "image/png": "[encoded data removed]",
            "text/plain": [
              "<Figure size 800x500 with 1 Axes>"
            ]
          },
          "metadata": {},
          "output_type": "display_data"
        }
      ],
      "source": [
        "\n",
        "\n"
      ]
    },
    {
      "cell_type": "markdown",
      "metadata": {
        "id": "PVdhDWtcS_1O"
      },
      "source": [
        "padding pre"
      ]
    },
    {
      "cell_type": "code",
      "execution_count": 19,
      "metadata": {
        "id": "0SPaCEy4NKP-"
      },
      "outputs": [],
      "source": [
        "#Prepare the short and long subsets\n",
        "X_short = [X_train[i] for i in idx_short]\n",
        "y_short = [y_train[i] for i in idx_short]\n",
        "\n",
        "X_long = [X_train[i] for i in idx_long]\n",
        "y_long = [y_train[i] for i in idx_long]\n",
        "\n",
        "#Pad the sequences\n",
        "X_short_padded = pad_sequences(X_short, maxlen=threshold_length, padding='pre')\n",
        "X_long_padded = pad_sequences(X_long, maxlen=threshold_length, padding='pre')"
      ]
    },
    {
      "cell_type": "code",
      "execution_count": 20,
      "metadata": {
        "colab": {
          "base_uri": "https://localhost:8080/"
        },
        "id": "X9T1JDGCTtqA",
        "outputId": "dc81172a-2a70-4460-d25d-9bdf38d76806"
      },
      "outputs": [
        {
          "name": "stdout",
          "output_type": "stream",
          "text": [
            "Model: \"sequential_7\"\n",
            "_________________________________________________________________\n",
            " Layer (type)                Output Shape              Param #   \n",
            "=================================================================\n",
            " embedding_6 (Embedding)     (None, 500, 100)          500000    \n",
            "                                                                 \n",
            " conv1d_6 (Conv1D)           (None, 498, 256)          77056     \n",
            "                                                                 \n",
            " global_max_pooling1d_6 (Gl  (None, 256)               0         \n",
            " obalMaxPooling1D)                                               \n",
            "                                                                 \n",
            " dense_9 (Dense)             (None, 128)               32896     \n",
            "                                                                 \n",
            " dense_10 (Dense)            (None, 1)                 129       \n",
            "                                                                 \n",
            "=================================================================\n",
            "Total params: 610081 (2.33 MB)\n",
            "Trainable params: 610081 (2.33 MB)\n",
            "Non-trainable params: 0 (0.00 Byte)\n",
            "_________________________________________________________________\n",
            "Epoch 1/5\n",
            "782/782 [==============================] - 198s 252ms/step - loss: 0.3606 - accuracy: 0.8271 - val_loss: 0.2632 - val_accuracy: 0.8909\n",
            "Epoch 2/5\n",
            "782/782 [==============================] - 235s 300ms/step - loss: 0.1749 - accuracy: 0.9335 - val_loss: 0.2701 - val_accuracy: 0.8921\n",
            "Epoch 3/5\n",
            "782/782 [==============================] - 193s 247ms/step - loss: 0.0777 - accuracy: 0.9750 - val_loss: 0.3083 - val_accuracy: 0.8916\n",
            "Epoch 4/5\n",
            "782/782 [==============================] - 195s 249ms/step - loss: 0.0241 - accuracy: 0.9935 - val_loss: 0.4547 - val_accuracy: 0.8852\n",
            "Epoch 5/5\n",
            "782/782 [==============================] - 210s 269ms/step - loss: 0.0098 - accuracy: 0.9976 - val_loss: 0.5217 - val_accuracy: 0.8856\n",
            "782/782 [==============================] - 48s 61ms/step - loss: 0.5217 - accuracy: 0.8856\n",
            "Test Accuracy: 0.8855999708175659\n"
          ]
        }
      ],
      "source": [
        "#CNN Model training for all reviews\n",
        "from tensorflow.keras.models import Sequential\n",
        "from tensorflow.keras.layers import Embedding, Conv1D, GlobalMaxPooling1D, Dense\n",
        "\n",
        "#Define the model\n",
        "#Build a CNN model using 10000 neurons, make sure to rely mostly on convolutional layers\n",
        "model = Sequential()\n",
        "model.add(Embedding(5000, 100, input_length=max_length))\n",
        "model.add(Conv1D(256, 3, padding='valid', activation='relu'))\n",
        "model.add(GlobalMaxPooling1D())\n",
        "model.add(Dense(128, activation='relu'))\n",
        "model.add(Dense(1, activation='sigmoid'))\n",
        "\n",
        "#Compile the model\n",
        "model.compile(optimizer='adam', loss='binary_crossentropy', metrics=['accuracy'])\n",
        "\n",
        "#Model Summary\n",
        "model.summary()\n",
        "\n",
        "#Train the model\n",
        "model.fit(X_train_padded, y_train, epochs=5, batch_size=32, validation_data=(X_test_padded, y_test))\n",
        "\n",
        "#Evaluate the model\n",
        "loss, accuracy = model.evaluate(X_test_padded, y_test)\n",
        "print('Test Accuracy:', accuracy)\n",
        "#CNN Model training for all reviews\n",
        "from tensorflow.keras.models import Sequential\n",
        "from tensorflow.keras.layers import Embedding, Conv1D, GlobalMaxPooling1D, Dense"
      ]
    },
    {
      "cell_type": "code",
      "execution_count": 21,
      "metadata": {
        "colab": {
          "base_uri": "https://localhost:8080/"
        },
        "id": "w1zVQDBgUwNH",
        "outputId": "a33a4cb4-3bd1-4995-e61b-0cd480ba932b"
      },
      "outputs": [
        {
          "name": "stdout",
          "output_type": "stream",
          "text": [
            "Model: \"sequential_8\"\n",
            "_________________________________________________________________\n",
            " Layer (type)                Output Shape              Param #   \n",
            "=================================================================\n",
            " embedding_7 (Embedding)     (None, 500, 100)          500000    \n",
            "                                                                 \n",
            " conv1d_7 (Conv1D)           (None, 498, 256)          77056     \n",
            "                                                                 \n",
            " global_max_pooling1d_7 (Gl  (None, 256)               0         \n",
            " obalMaxPooling1D)                                               \n",
            "                                                                 \n",
            " dense_11 (Dense)            (None, 128)               32896     \n",
            "                                                                 \n",
            " reshape_2 (Reshape)         (None, 1, 128)            0         \n",
            "                                                                 \n",
            " gru_3 (GRU)                 (None, 128)               99072     \n",
            "                                                                 \n",
            " dense_12 (Dense)            (None, 1)                 129       \n",
            "                                                                 \n",
            "=================================================================\n",
            "Total params: 709153 (2.71 MB)\n",
            "Trainable params: 709153 (2.71 MB)\n",
            "Non-trainable params: 0 (0.00 Byte)\n",
            "_________________________________________________________________\n",
            "Epoch 1/5\n",
            "782/782 [==============================] - 204s 256ms/step - loss: 0.3478 - accuracy: 0.8386 - val_loss: 0.2477 - val_accuracy: 0.8973\n",
            "Epoch 2/5\n",
            "782/782 [==============================] - 197s 252ms/step - loss: 0.1682 - accuracy: 0.9353 - val_loss: 0.2589 - val_accuracy: 0.8982\n",
            "Epoch 3/5\n",
            "782/782 [==============================] - 197s 252ms/step - loss: 0.0711 - accuracy: 0.9752 - val_loss: 0.3127 - val_accuracy: 0.8944\n",
            "Epoch 4/5\n",
            "782/782 [==============================] - 235s 301ms/step - loss: 0.0437 - accuracy: 0.9840 - val_loss: 0.4626 - val_accuracy: 0.8642\n",
            "Epoch 5/5\n",
            "782/782 [==============================] - 237s 303ms/step - loss: 0.0274 - accuracy: 0.9901 - val_loss: 0.4603 - val_accuracy: 0.8911\n",
            "782/782 [==============================] - 50s 64ms/step - loss: 0.4603 - accuracy: 0.8911\n",
            "Test Accuracy: 0.8911200165748596\n"
          ]
        }
      ],
      "source": [
        "#GRU\n",
        "from tensorflow.keras.models import Sequential\n",
        "from tensorflow.keras.layers import Embedding, Conv1D, GlobalMaxPooling1D, Dense, GRU, Reshape\n",
        "\n",
        "# Define the model\n",
        "model = Sequential()\n",
        "model.add(Embedding(5000, 100, input_length=max_length))\n",
        "model.add(Conv1D(256, 3, padding='valid', activation='relu'))\n",
        "model.add(GlobalMaxPooling1D())\n",
        "model.add(Dense(128, activation='relu'))\n",
        "model.add(Reshape((-1, 128)))  # Reshape the input to make it compatible with GRU layer\n",
        "model.add(GRU(128))  # You can adjust the number of units in the GRU layer as needed\n",
        "model.add(Dense(1, activation='sigmoid'))\n",
        "\n",
        "# Compile the model\n",
        "model.compile(optimizer='adam', loss='binary_crossentropy', metrics=['accuracy'])\n",
        "\n",
        "# Model Summary\n",
        "model.summary()\n",
        "\n",
        "# Train the model\n",
        "model.fit(X_train_padded, y_train, epochs=5, batch_size=32, validation_data=(X_test_padded, y_test))\n",
        "\n",
        "# Evaluate the model\n",
        "loss, accuracy = model.evaluate(X_test_padded, y_test)\n",
        "print('Test Accuracy:', accuracy)\n"
      ]
    },
    {
      "cell_type": "code",
      "execution_count": 24,
      "metadata": {
        "colab": {
          "base_uri": "https://localhost:8080/"
        },
        "id": "vkmVwFG5U2PM",
        "outputId": "dc9bb6fd-5632-49a5-81da-b9ac6f42fb48"
      },
      "outputs": [
        {
          "name": "stdout",
          "output_type": "stream",
          "text": [
            "Model: \"sequential_11\"\n",
            "_________________________________________________________________\n",
            " Layer (type)                Output Shape              Param #   \n",
            "=================================================================\n",
            " embedding_10 (Embedding)    (None, 500, 100)          500000    \n",
            "                                                                 \n",
            " conv1d_10 (Conv1D)          (None, 498, 256)          77056     \n",
            "                                                                 \n",
            " global_max_pooling1d_10 (G  (None, 256)               0         \n",
            " lobalMaxPooling1D)                                              \n",
            "                                                                 \n",
            " dense_16 (Dense)            (None, 128)               32896     \n",
            "                                                                 \n",
            " reshape_4 (Reshape)         (None, 1, 128)            0         \n",
            "                                                                 \n",
            " simple_rnn_4 (SimpleRNN)    (None, 128)               32896     \n",
            "                                                                 \n",
            " dense_17 (Dense)            (None, 1)                 129       \n",
            "                                                                 \n",
            "=================================================================\n",
            "Total params: 642977 (2.45 MB)\n",
            "Trainable params: 642977 (2.45 MB)\n",
            "Non-trainable params: 0 (0.00 Byte)\n",
            "_________________________________________________________________\n",
            "Epoch 1/5\n",
            "782/782 [==============================] - 207s 261ms/step - loss: 0.3468 - accuracy: 0.8360 - val_loss: 0.2689 - val_accuracy: 0.8881\n",
            "Epoch 2/5\n",
            "782/782 [==============================] - 190s 242ms/step - loss: 0.1676 - accuracy: 0.9376 - val_loss: 0.2587 - val_accuracy: 0.8974\n",
            "Epoch 3/5\n",
            "782/782 [==============================] - 191s 245ms/step - loss: 0.0749 - accuracy: 0.9753 - val_loss: 0.3261 - val_accuracy: 0.8855\n",
            "Epoch 4/5\n",
            "782/782 [==============================] - 193s 247ms/step - loss: 0.0439 - accuracy: 0.9837 - val_loss: 0.4233 - val_accuracy: 0.8839\n",
            "Epoch 5/5\n",
            "782/782 [==============================] - 189s 242ms/step - loss: 0.0290 - accuracy: 0.9895 - val_loss: 0.4606 - val_accuracy: 0.8906\n",
            "782/782 [==============================] - 43s 55ms/step - loss: 0.4606 - accuracy: 0.8906\n",
            "Test Accuracy: 0.89055997133255\n"
          ]
        }
      ],
      "source": [
        "#RNN\n",
        "from tensorflow.keras.models import Sequential\n",
        "from tensorflow.keras.layers import Embedding, Conv1D, GlobalMaxPooling1D, SimpleRNN, Dense, Reshape\n",
        "\n",
        "model_rnn = Sequential()\n",
        "model_rnn.add(Embedding(5000, 100, input_length=max_length))\n",
        "model_rnn.add(Conv1D(256, 3, padding='valid', activation='relu'))\n",
        "model_rnn.add(GlobalMaxPooling1D())\n",
        "model_rnn.add(Dense(128, activation='relu'))\n",
        "model_rnn.add(Reshape((-1, 128)))  # Reshape the input to make it compatible with SimpleRNN layer\n",
        "model_rnn.add(SimpleRNN(128, activation='tanh'))  # You can adjust the number of units in the SimpleRNN layer as needed\n",
        "model_rnn.add(Dense(1, activation='sigmoid'))\n",
        "\n",
        "model_rnn.compile(optimizer='adam', loss='binary_crossentropy', metrics=['accuracy'])\n",
        "\n",
        "model_rnn.summary()\n",
        "\n",
        "model_rnn.fit(X_train_padded, y_train, epochs=5, batch_size=32, validation_data=(X_test_padded, y_test))\n",
        "\n",
        "loss, accuracy = model_rnn.evaluate(X_test_padded, y_test)\n",
        "print('Test Accuracy:', accuracy)\n"
      ]
    },
    {
      "cell_type": "code",
      "execution_count": 30,
      "metadata": {
        "colab": {
          "base_uri": "https://localhost:8080/",
          "height": 957
        },
        "id": "LL-baOkLm07o",
        "outputId": "2a3f588e-1a10-4293-fc40-617b520aee37"
      },
      "outputs": [
        {
          "data": {
            "image/png": "[encoded data removed]",
            "text/plain": [
              "<Figure size 800x500 with 1 Axes>"
            ]
          },
          "metadata": {},
          "output_type": "display_data"
        },
        {
          "data": {
            "image/png": "[encoded data removed]",
            "text/plain": [
              "<Figure size 800x500 with 1 Axes>"
            ]
          },
          "metadata": {},
          "output_type": "display_data"
        }
      ],
      "source": [
        "import matplotlib.pyplot as plt\n",
        "\n",
        "model_names = ['CNN', 'GRU', 'RNN']\n",
        "loss_values = [0.5217, 0.4603, 0.4606]\n",
        "accuracy_values = [0.8856, 0.8911, 0.8906]\n",
        "\n",
        "plt.figure(figsize=(8, 5))\n",
        "plt.bar(model_names, loss_values, color='skyblue')\n",
        "plt.title('Model Loss')\n",
        "plt.xlabel('Model')\n",
        "plt.ylabel('Loss')\n",
        "min_loss = min(loss_values)\n",
        "max_loss = max(loss_values)\n",
        "plt.ylim(min_loss * 0.95 , max_loss * 1.05)\n",
        "plt.grid(axis='y')\n",
        "plt.show()\n",
        "\n",
        "\n",
        "plt.figure(figsize=(8, 5))\n",
        "plt.bar(model_names, accuracy_values, color='salmon')\n",
        "plt.title('Model Accuracy')\n",
        "plt.xlabel('Model')\n",
        "plt.ylabel('Accuracy')\n",
        "min_loss = min(accuracy_values)\n",
        "max_loss = max(accuracy_values)\n",
        "plt.ylim(min_loss * 0.95 , max_loss * 1.05)\n",
        "plt.grid(axis='y')\n",
        "plt.show()\n"
      ]
    },
    {
      "cell_type": "code",
      "execution_count": 33,
      "metadata": {
        "colab": {
          "base_uri": "https://localhost:8080/",
          "height": 607
        },
        "id": "MLwq6-Pin06x",
        "outputId": "adc414a1-cf94-446b-9f7c-93942319eb63"
      },
      "outputs": [
        {
          "data": {
            "image/png": "[encoded data removed]",
            "text/plain": [
              "<Figure size 1200x600 with 2 Axes>"
            ]
          },
          "metadata": {},
          "output_type": "display_data"
        }
      ],
      "source": [
        "import matplotlib.pyplot as plt\n",
        "\n",
        "model_names = ['CNN', 'GRU', 'RNN']\n",
        "\n",
        "# Post填充方式\n",
        "loss_values_post = [0.5098, 0.3786, 0.3678]\n",
        "accuracy_values_post = [0.8846, 0.8904, 0.8929]\n",
        "\n",
        "# Pre填充方式\n",
        "loss_values_pre = [0.5217, 0.4603, 0.4606]\n",
        "accuracy_values_pre = [0.8856, 0.8911, 0.8906]\n",
        "\n",
        "plt.figure(figsize=(12, 6))\n",
        "\n",
        "plt.subplot(1, 2, 1)\n",
        "plt.bar(model_names, loss_values_post, color='skyblue', label='Post Padding')\n",
        "plt.bar(model_names, loss_values_pre, color='salmon', label='Pre Padding', alpha=0.6)\n",
        "plt.title('Model Loss')\n",
        "plt.xlabel('Model')\n",
        "plt.ylabel('Loss')\n",
        "plt.ylim(0, max(max(loss_values_post), max(loss_values_pre)) * 1.1)\n",
        "plt.grid(axis='y')\n",
        "plt.legend()\n",
        "\n",
        "\n",
        "plt.subplot(1, 2, 2)\n",
        "plt.bar(model_names, accuracy_values_post, color='skyblue', label='Post Padding')\n",
        "plt.bar(model_names, accuracy_values_pre, color='salmon', label='Pre Padding', alpha=0.6)\n",
        "plt.title('Model Accuracy')\n",
        "plt.xlabel('Model')\n",
        "plt.ylabel('Accuracy')\n",
        "plt.ylim(0, 1)\n",
        "plt.grid(axis='y')\n",
        "plt.legend()\n",
        "\n",
        "plt.tight_layout()\n",
        "plt.ylim(min(accuracy_values_post + accuracy_values_pre) * 0.95 , max(accuracy_values_post + accuracy_values_pre) * 1.05)\n",
        "plt.show()\n"
      ]
    }
  ],
  "metadata": {
    "colab": {
      "provenance": []
    },
    "kernelspec": {
      "display_name": "Python 3",
      "name": "python3"
    },
    "language_info": {
      "name": "python"
    }
  },
  "nbformat": 4,
  "nbformat_minor": 0
}
